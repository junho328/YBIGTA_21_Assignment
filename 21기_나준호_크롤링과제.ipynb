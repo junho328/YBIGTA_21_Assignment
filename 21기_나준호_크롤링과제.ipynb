{
 "cells": [
  {
   "cell_type": "code",
   "execution_count": 63,
   "id": "66ac9de6",
   "metadata": {},
   "outputs": [],
   "source": [
    "import requests\n",
    "from bs4 import BeautifulSoup"
   ]
  },
  {
   "cell_type": "code",
   "execution_count": 64,
   "id": "206467b3",
   "metadata": {},
   "outputs": [],
   "source": [
    "# get\n",
    "url = 'https://movie.naver.com/movie/sdb/rank/rmovie.naver'\n",
    "html = requests.get(url)\n",
    "soup = BeautifulSoup(html.text, 'html.parser')"
   ]
  },
  {
   "cell_type": "code",
   "execution_count": 65,
   "id": "9ea27477",
   "metadata": {},
   "outputs": [],
   "source": [
    "# select 이용\n",
    "movies = soup.select('td.title div.tit3')"
   ]
  },
  {
   "cell_type": "code",
   "execution_count": 66,
   "id": "9fc0c083",
   "metadata": {},
   "outputs": [],
   "source": [
    "#Top10만\n",
    "movies= movies[:10]"
   ]
  },
  {
   "cell_type": "markdown",
   "id": "2b8011e2",
   "metadata": {},
   "source": [
    "- 주어진 항목 없을 시 'X'로 출력"
   ]
  },
  {
   "cell_type": "code",
   "execution_count": 67,
   "id": "6d71a8e5",
   "metadata": {},
   "outputs": [
    {
     "name": "stdout",
     "output_type": "stream",
     "text": [
      "['비상선언', '관람객 평점 6.65점', '드라마', '한국', '140분 ', 'X', '한재림', '12세 관람가', '1,495,336명(08.08 기준)']\n",
      "['한산: 용의 출현', '관람객 평점 8.53점', '액션', '한국', '129분 ', 'X', '김한민', '12세 관람가', '4,760,152명(08.08 기준)']\n",
      "['외계+인 1부', '관람객 평점 6.89점', '액션', '한국', '142분 ', 'X', '최동훈', '12세 관람가', '1,501,779명(08.08 기준)']\n",
      "['탑건: 매버릭', '관람객 평점 9.59점', '액션', '미국', '130분 ', 'X', '조셉 코신스키', '12세 관람가', '7,477,721명(08.08 기준)']\n",
      "['헤어질 결심', '관람객 평점 8.93점', '멜로/로맨스', '한국', '138분 ', 'X', '박찬욱', '15세 관람가', '1,783,308명(08.08 기준)']\n",
      "['헌트', '관람객 평점 8.60점', '액션', '한국', '125분 ', 'X', '이정재', '15세 관람가', 'X']\n",
      "['카터', '관람객 평점 없음', '액션', '한국', 'X', 'X', '정병길', 'X', 'X']\n",
      "['프레이', '관람객 평점 없음', '액션', '미국', '99분 ', 'X', '댄 트라첸버그', '청소년 관람불가', 'X']\n",
      "['미니언즈2', '관람객 평점 7.85점', '애니메이션', '미국', '87분 ', 'X', '카일 발다', '전체 관람가', '1,995,389명(08.08 기준)']\n",
      "['토르: 러브 앤 썬더', '관람객 평점 6.73점', '액션', '미국', '119분 ', 'X', '타이카 와이티티', '12세 관람가', '2,714,787명(08.08 기준)']\n"
     ]
    }
   ],
   "source": [
    "for movie in movies:\n",
    "    movie_info = []\n",
    "    \n",
    "    #1. 타이틀\n",
    "    title = movie.text.replace('\\n','')\n",
    "    movie_info.append(title)\n",
    "    \n",
    "    # 상세 페이지로 이동\n",
    "    link = 'https://movie.naver.com'+ movie.select_one('a')['href']\n",
    "    html = requests.get(link)\n",
    "    soup = BeautifulSoup(html.text, 'html.parser')\n",
    "    \n",
    "    #2. 관람객 평점\n",
    "    rating = soup.select('div.star_score span.st_off span.st_on')[0]\n",
    "    if rating == None:\n",
    "        movie_info.append('평점없음')\n",
    "    else:\n",
    "        rating = rating.text\n",
    "        movie_info.append(rating)\n",
    "    \n",
    "    #3. 장르1\n",
    "    genre1 = soup.select_one('#content > div.article > div.mv_info_area > div.mv_info > dl > dd:nth-child(2) > p > span:nth-child(1) > a')\n",
    "    if genre1 == None:\n",
    "        movie_info.append('X')\n",
    "    else:\n",
    "        genre1 = genre1.text\n",
    "        movie_info.append(genre1)\n",
    "    \n",
    "    #4. 장르2\n",
    "    genre2 = soup.select_one('#content > div.article > div.mv_info_area > div.mv_info > dl > dd:nth-child(2) > p > span:nth-child(2) > a')\n",
    "    if genre2 == None:\n",
    "        movie_info.append('X')\n",
    "    else:\n",
    "        genre2 = genre2.text\n",
    "        movie_info.append(genre2)\n",
    "    \n",
    "    #5. 러닝타임\n",
    "    time = soup.select_one('#content > div.article > div.mv_info_area > div.mv_info > dl > dd:nth-child(2) > p > span:nth-child(3)')\n",
    "    if time ==None:\n",
    "        movie_info.append('X')\n",
    "    else:\n",
    "        time = time.text\n",
    "        movie_info.append(time)\n",
    "    \n",
    "    #6. 개봉일\n",
    "    release1 = soup.select_one('#content > div.article > div.mv_info_area > div.mv_info > dl > dd:nth-child(2) > p > span:nth-child(4) > a:nth-child(1)') \n",
    "    release2 = soup.select_one('#content > div.article > div.mv_info_area > div.mv_info > dl > dd:nth-child(2) > p > span:nth-child(4) > a:nth-child(2)')\n",
    "    if release1 or release2 == None:\n",
    "        movie_info.append('X')\n",
    "    else:\n",
    "        release1 = release1.text\n",
    "        release2 = release2.text\n",
    "        release = release1+release2\n",
    "        movie_info.append(release)\n",
    "    \n",
    "    #7. 감독\n",
    "    director = soup.select_one('#content > div.article > div.mv_info_area > div.mv_info > dl > dd:nth-child(4) > p > a').text\n",
    "    movie_info.append(director)\n",
    "    \n",
    "    #8. 관람등급\n",
    "    age = soup.select_one('#content > div.article > div.mv_info_area > div.mv_info > dl > dd:nth-child(8) > p > a')\n",
    "    if age == None:\n",
    "        movie_info.append('X')\n",
    "    else:\n",
    "        age = age.text\n",
    "        movie_info.append(age)\n",
    "    \n",
    "    #9. 관람객 수\n",
    "    watching_num = soup.select_one('#content > div.article > div.mv_info_area > div.mv_info > dl > dd:nth-child(10) > div > p')\n",
    "    if watching_num == None:\n",
    "        movie_info.append('X')\n",
    "    else:\n",
    "        watching_num = watching_num.text\n",
    "        movie_info.append(watching_num)\n",
    "    \n",
    "    print(movie_info)"
   ]
  }
 ],
 "metadata": {
  "kernelspec": {
   "display_name": "Python 3 (ipykernel)",
   "language": "python",
   "name": "python3"
  },
  "language_info": {
   "codemirror_mode": {
    "name": "ipython",
    "version": 3
   },
   "file_extension": ".py",
   "mimetype": "text/x-python",
   "name": "python",
   "nbconvert_exporter": "python",
   "pygments_lexer": "ipython3",
   "version": "3.9.7"
  }
 },
 "nbformat": 4,
 "nbformat_minor": 5
}
